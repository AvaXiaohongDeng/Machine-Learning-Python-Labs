{
 "cells": [
  {
   "cell_type": "code",
   "execution_count": 4,
   "metadata": {},
   "outputs": [
    {
     "name": "stdout",
     "output_type": "stream",
     "text": [
      "Class labels: [0 1 2]\n"
     ]
    }
   ],
   "source": [
    "import warnings\n",
    "warnings.filterwarnings('ignore')\n",
    "from matplotlib.colors import ListedColormap\n",
    "import matplotlib.pyplot as plt\n",
    "%matplotlib inline\n",
    "from sklearn import datasets\n",
    "import numpy as np\n",
    "import pandas as pd\n",
    "from sklearn import tree\n",
    "from sklearn import metrics\n",
    "\n",
    "iris = datasets.load_iris()\n",
    "# X = iris.data[:, [2, 3]]\n",
    "X = iris.data\n",
    "y = iris.target\n",
    "print('Class labels:', np.unique(y))"
   ]
  },
  {
   "cell_type": "code",
   "execution_count": 5,
   "metadata": {},
   "outputs": [],
   "source": [
    "#Normalize data: the unit of measurement might differ so lets normalize the data before building the model\n",
    "from sklearn.preprocessing import StandardScaler\n",
    "# sc = StandardScaler()\n",
    "# sc.fit(X)\n",
    "# X = sc.transform(X)\n",
    "X = StandardScaler().fit_transform(X)"
   ]
  },
  {
   "cell_type": "code",
   "execution_count": 6,
   "metadata": {},
   "outputs": [
    {
     "name": "stdout",
     "output_type": "stream",
     "text": [
      "Train - Accuracy : 1.0\n",
      "Train - Confusion matrix : [[34  0  0]\n",
      " [ 0 32  0]\n",
      " [ 0  0 39]]\n",
      "Train - classification report :               precision    recall  f1-score   support\n",
      "\n",
      "           0       1.00      1.00      1.00        34\n",
      "           1       1.00      1.00      1.00        32\n",
      "           2       1.00      1.00      1.00        39\n",
      "\n",
      "    accuracy                           1.00       105\n",
      "   macro avg       1.00      1.00      1.00       105\n",
      "weighted avg       1.00      1.00      1.00       105\n",
      "\n",
      "Test - Accuracy : 0.9777777777777777\n",
      "Test - Confusion matrix : [[16  0  0]\n",
      " [ 0 17  1]\n",
      " [ 0  0 11]]\n",
      "Test - classification report :               precision    recall  f1-score   support\n",
      "\n",
      "           0       1.00      1.00      1.00        16\n",
      "           1       1.00      0.94      0.97        18\n",
      "           2       0.92      1.00      0.96        11\n",
      "\n",
      "    accuracy                           0.98        45\n",
      "   macro avg       0.97      0.98      0.98        45\n",
      "weighted avg       0.98      0.98      0.98        45\n",
      "\n"
     ]
    }
   ],
   "source": [
    "# split data into train and test\n",
    "from sklearn.model_selection import train_test_split\n",
    "X_train, X_test, y_train, y_test = train_test_split(X, y, test_size=0.3, random_state=0)\n",
    "# build and evaluate the tree\n",
    "clf = tree.DecisionTreeClassifier(criterion = 'entropy', random_state=0)\n",
    "clf.fit(X_train, y_train)\n",
    "# generate evaluation metrics\n",
    "print(\"Train - Accuracy :\", metrics.accuracy_score(y_train, clf.predict(X_train)))\n",
    "print(\"Train - Confusion matrix :\",metrics.confusion_matrix(y_train, clf.predict(X_train)))\n",
    "print(\"Train - classification report :\", metrics.classification_report(y_train, clf.predict(X_train)))\n",
    "print(\"Test - Accuracy :\", metrics.accuracy_score(y_test, clf.predict(X_test)))\n",
    "print(\"Test - Confusion matrix :\",metrics.confusion_matrix(y_test, clf.predict(X_test)))\n",
    "print(\"Test - classification report :\", metrics.classification_report(y_test, clf.predict(X_test)))"
   ]
  }
 ],
 "metadata": {
  "kernelspec": {
   "display_name": "Python 3",
   "language": "python",
   "name": "python3"
  },
  "language_info": {
   "codemirror_mode": {
    "name": "ipython",
    "version": 3
   },
   "file_extension": ".py",
   "mimetype": "text/x-python",
   "name": "python",
   "nbconvert_exporter": "python",
   "pygments_lexer": "ipython3",
   "version": "3.12.2"
  }
 },
 "nbformat": 4,
 "nbformat_minor": 2
}
