{
 "cells": [
  {
   "cell_type": "markdown",
   "metadata": {},
   "source": [
    "This lab is to create a Linear Regression Model for Bike Rentals"
   ]
  },
  {
   "cell_type": "code",
   "execution_count": null,
   "metadata": {},
   "outputs": [],
   "source": [
    "# Collect data\n",
    "import pandas as pd\n",
    "bikes = pd.read_csv(\"bikes.csv\")"
   ]
  },
  {
   "cell_type": "code",
   "execution_count": null,
   "metadata": {},
   "outputs": [],
   "source": [
    "#Explore data\n",
    "bikes.head()\n",
    "bikes.info()\n",
    "bikes.describe()\n",
    "%matplotlib inline\n",
    "bikes.plot(kind = 'scatter', x = 'temperature', y = 'rentals')\n",
    "bikes.plot(kind = 'scatter',x = 'humidity', y = 'rentals')\n"
   ]
  },
  {
   "cell_type": "code",
   "execution_count": null,
   "metadata": {},
   "outputs": [],
   "source": [
    "#Prepare data\n",
    "response = 'rentals'\n",
    "y = bikes[[response]]\n",
    "predictors = list(bikes.columns)\n",
    "predictors.remove(response)\n",
    "x = bikes[predictors]\n",
    "\n",
    "from sklearn.model_selection import train_test_split\n",
    "x_train, x_test,y_train, y_test = train_test_split(x,y,random_state=1234)"
   ]
  },
  {
   "cell_type": "code",
   "execution_count": null,
   "metadata": {},
   "outputs": [],
   "source": [
    "#Train the model\n",
    "from sklearn.linear_model import LinearRegression\n",
    "model = LinearRegression().fit(x_train, y_train)\n",
    "\n",
    "#Display the model coef and intersect\n",
    "model.intercept_\n",
    "model.coef_\n",
    "#Evaluate the model\n",
    "model.score(x_test, y_test)\n",
    "y_pred = model.predict(x_test)\n",
    "\n",
    "from sklearn.metrics import mean_absolute_error\n",
    "mean_absolute_error(y_test, y_pred)"
   ]
  }
 ],
 "metadata": {
  "kernelspec": {
   "display_name": "Python 3",
   "language": "python",
   "name": "python3"
  },
  "language_info": {
   "codemirror_mode": {
    "name": "ipython",
    "version": 3
   },
   "file_extension": ".py",
   "mimetype": "text/x-python",
   "name": "python",
   "nbconvert_exporter": "python",
   "pygments_lexer": "ipython3",
   "version": "3.11.2"
  }
 },
 "nbformat": 4,
 "nbformat_minor": 2
}
