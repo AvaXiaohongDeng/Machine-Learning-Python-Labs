{
 "cells": [
  {
   "cell_type": "code",
   "execution_count": 1,
   "metadata": {},
   "outputs": [
    {
     "name": "stdout",
     "output_type": "stream",
     "text": [
      "[0 1 2 3 4 5 6 7]\n",
      "[0, 1, 2, 3, 4, 5, 6, 7]\n"
     ]
    }
   ],
   "source": [
    "##1. NumPy Package\n",
    "#1)ndarray vs list\n",
    "import numpy as np\n",
    "my_arr = np.arange(8)\n",
    "my_list = list(range(8))\n",
    "print(my_arr)\n",
    "print(my_list)"
   ]
  },
  {
   "cell_type": "code",
   "execution_count": 2,
   "metadata": {},
   "outputs": [
    {
     "name": "stdout",
     "output_type": "stream",
     "text": [
      "[[0. 0. 0.]\n",
      " [0. 0. 0.]\n",
      " [0. 0. 0.]]\n",
      "[[7 7 7]\n",
      " [7 7 7]\n",
      " [7 7 7]]\n",
      "[[0.14292607 0.1934365  0.34104968]\n",
      " [0.11507612 0.28031704 0.90673372]\n",
      " [0.43371734 0.05413017 0.08223299]]\n"
     ]
    }
   ],
   "source": [
    "#2)Create NumPy Array\n",
    "# Create a 3x3 array of all zeros \n",
    "a = np.zeros((3,3)) \n",
    "print (a)\n",
    "\n",
    "# Create a 3x3 constant array\n",
    "c = np.full((3,3), 7)\n",
    "print (c)\n",
    "\n",
    "# Create a 3x3 array filled with random values\n",
    "d = np.random.random((3,3))\n",
    "print (d)"
   ]
  },
  {
   "cell_type": "code",
   "execution_count": 2,
   "metadata": {},
   "outputs": [
    {
     "name": "stdout",
     "output_type": "stream",
     "text": [
      "[[1. 2. 3.]\n",
      " [4. 5. 6.]]\n",
      "[[ 1.  4.  9.]\n",
      " [16. 25. 36.]]\n",
      "[[ 0.  4.  1.]\n",
      " [ 7.  2. 12.]]\n",
      "[[False  True False]\n",
      " [ True False  True]]\n",
      "[[1. 2. 3.]\n",
      " [4. 5. 6.]]\n"
     ]
    }
   ],
   "source": [
    "#3)Arithmaticwith NumPy Arrays\n",
    "arr = np.array([[1., 2., 3.], [4., 5., 6.]])\n",
    "print(arr)\n",
    "print(arr **2)\n",
    "arr2 = np.array([[0., 4., 1.], [7., 2., 12.]])\n",
    "print(arr2)\n",
    "print(arr2 > arr)"
   ]
  },
  {
   "cell_type": "code",
   "execution_count": 4,
   "metadata": {},
   "outputs": [
    {
     "name": "stdout",
     "output_type": "stream",
     "text": [
      "[0 1 2 3 4 5 6 7 8 9]\n",
      "9\n",
      "[0 1 2 3 4 5 6 7 8]\n",
      "5\n",
      "[5 6 7]\n",
      "[    0     1     2     3     4     5 12345     7     8     9]\n",
      "[ 0  1  2  3  4 64 64 64  8  9]\n"
     ]
    }
   ],
   "source": [
    "#4)Indexing and Slicing\n",
    "arr = np.arange(10)\n",
    "print(arr)            # [0 1 2 3 4 5 6 7 8 9]\n",
    "print(arr[5])         #5\n",
    "arr_slice = arr[5:8]\n",
    "print(arr_slice)      # [5 6 7]\n",
    "arr_slice[1] = 12345\n",
    "print(arr)             # [ 0 1 2 3 4 5 12345 7 8 9]\n",
    "arr_slice[:] = 64\n",
    "print(arr)             # [ 0 1 2 3 4 64 64 64 8 9]\n"
   ]
  },
  {
   "cell_type": "code",
   "execution_count": null,
   "metadata": {},
   "outputs": [],
   "source": []
  },
  {
   "cell_type": "code",
   "execution_count": 7,
   "metadata": {},
   "outputs": [
    {
     "name": "stdout",
     "output_type": "stream",
     "text": [
      "[7 8 9]\n",
      "3\n",
      "3\n"
     ]
    }
   ],
   "source": [
    "# 5)Indexing\n",
    "arr2d = np.array([[1, 2, 3], [4, 5, 6], [7, 8, 9]])\n",
    "print(arr2d[2])             # [7 8 9]\n",
    "print(arr2d[0][2])           # 3\n",
    "print(arr2d[0, 2])           #3"
   ]
  },
  {
   "cell_type": "code",
   "execution_count": 10,
   "metadata": {},
   "outputs": [
    {
     "data": {
      "text/plain": [
       "2.0"
      ]
     },
     "execution_count": 10,
     "metadata": {},
     "output_type": "execute_result"
    }
   ],
   "source": [
    "import numpy as np \n",
    "data = [1,2,3,4,5]\n",
    "mean = np.mean(data)\n",
    "mean\n",
    "\n",
    "arr = np.arange(5)\n",
    "mean1 = np.mean(arr)\n",
    "mean1"
   ]
  },
  {
   "cell_type": "code",
   "execution_count": 7,
   "metadata": {},
   "outputs": [
    {
     "name": "stdout",
     "output_type": "stream",
     "text": [
      "   A   B\n",
      "0  1  10\n",
      "1  2  20\n",
      "   A    B\n",
      "0  1  100\n",
      "1  4  400\n"
     ]
    }
   ],
   "source": [
    "import pandas as pd\n",
    "df = pd.DataFrame({'A': [1, 2], 'B': [10, 20]})\n",
    "def square(x):\n",
    "    return x * x\n",
    "df1 = df.apply(square)\n",
    "print(df)\n",
    "print(df1)"
   ]
  }
 ],
 "metadata": {
  "kernelspec": {
   "display_name": "Python 3",
   "language": "python",
   "name": "python3"
  },
  "language_info": {
   "codemirror_mode": {
    "name": "ipython",
    "version": 3
   },
   "file_extension": ".py",
   "mimetype": "text/x-python",
   "name": "python",
   "nbconvert_exporter": "python",
   "pygments_lexer": "ipython3",
   "version": "3.11.2"
  }
 },
 "nbformat": 4,
 "nbformat_minor": 2
}
