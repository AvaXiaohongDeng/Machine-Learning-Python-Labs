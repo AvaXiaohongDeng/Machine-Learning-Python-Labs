{
 "cells": [
  {
   "cell_type": "code",
   "execution_count": 2,
   "metadata": {},
   "outputs": [],
   "source": [
    "#detect missing data\n",
    "import pandas as pd\n",
    "# students = pd.read_excel(\"students.xlsx\")\n",
    "# students\n",
    "##Creating a Mask for Missing Values:\n",
    "##creates a boolean mask (mask) that is True for rows where the 'State' column has missing values (NaN) and False otherwise.\n",
    "# mask = students['State'].isnull()\n",
    "# mask\n",
    "##Filtering Rows with Missing Values\n",
    "##uses the boolean mask to filter and display only the rows where the 'State' column has missing values\n",
    "# students[mask]"
   ]
  },
  {
   "cell_type": "code",
   "execution_count": null,
   "metadata": {},
   "outputs": [],
   "source": [
    "#remove missing data\n",
    "#students.dropna(inplace=True). This will change the students DataFrame directly.\n",
    "#new_students = students.dropna() is to create a new DataFrame without modifying the original\n",
    "students.dropna()\n",
    "#drops rows containing missing values specifically in the 'State' or 'Zip' columns. \n",
    "#The subset parameter specifies the columns to consider, and the how parameter is set to 'all', \n",
    "# meaning a row will be dropped only if all specified columns have missing values.\n",
    "students = students.dropna(subset = ['State', 'Zip'], how = 'all')\n",
    "Students\n"
   ]
  },
  {
   "cell_type": "code",
   "execution_count": null,
   "metadata": {},
   "outputs": [],
   "source": [
    "#Resolve missing data\n",
    "#fillna() method with a dictionary specifying the column ('Gender') and the value to fill missing entries ('Female').\n",
    "students = students.fillna({'Gender':'Female'})\n",
    "Students\n",
    "#fillna() method with a dictionary specifying the column ('Age') and the value to fill missing entries \n",
    "# (the median of the 'Age' column)\n",
    "students = students.fillna({'Age':students['Age'].median()})\n",
    "students"
   ]
  }
 ],
 "metadata": {
  "kernelspec": {
   "display_name": "Python 3",
   "language": "python",
   "name": "python3"
  },
  "language_info": {
   "codemirror_mode": {
    "name": "ipython",
    "version": 3
   },
   "file_extension": ".py",
   "mimetype": "text/x-python",
   "name": "python",
   "nbconvert_exporter": "python",
   "pygments_lexer": "ipython3",
   "version": "3.11.2"
  }
 },
 "nbformat": 4,
 "nbformat_minor": 2
}
